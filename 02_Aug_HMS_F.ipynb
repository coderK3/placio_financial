{
 "cells": [
  {
   "cell_type": "code",
   "execution_count": 1,
   "metadata": {
    "scrolled": true
   },
   "outputs": [
    {
     "data": {
      "text/html": [
       "<script>requirejs.config({paths: { 'plotly': ['https://cdn.plot.ly/plotly-latest.min']},});if(!window.Plotly) {{require(['plotly'],function(plotly) {window.Plotly=plotly;});}}</script>"
      ],
      "text/vnd.plotly.v1+html": [
       "<script>requirejs.config({paths: { 'plotly': ['https://cdn.plot.ly/plotly-latest.min']},});if(!window.Plotly) {{require(['plotly'],function(plotly) {window.Plotly=plotly;});}}</script>"
      ]
     },
     "metadata": {},
     "output_type": "display_data"
    },
    {
     "name": "stdout",
     "output_type": "stream",
     "text": [
      "01_Aug_HMS_F.ipynb\n",
      "02_Aug_HMS_F.ipynb\n",
      "col\n",
      "collect_and_due_amount_20180701_to_20180723.png\n",
      "CRM01_Aug.ipynb\n",
      "csv\n",
      "due_and_collect_amount Graph.png\n",
      "FeeReport-2018-07-25 06_05_42.csv\n",
      "hms_db.sql\n",
      "july\n",
      "kk\n",
      "modes_tenants_until_21072018.png\n",
      "Paid_Pending.png\n",
      "PF009_2_may.png\n",
      "PF009_may.png\n",
      "README.md\n",
      "status_20180701_to_20180723.png\n",
      "table.html\n",
      "test.csv\n",
      "Untitled.ipynb\n",
      "\n"
     ]
    }
   ],
   "source": [
    "import networkx as nx #Graphical persentation of unshorted data\n",
    "import numpy as np #calculation lib\n",
    "import pandas as pd #data Shoting Lib eg:series\n",
    "import matplotlib.pyplot as mlt #for plot the data \n",
    "mlt.style.use('fivethirtyeight')\n",
    "import seaborn as sns #statical data vertualisation \n",
    "import plotly.offline as py #plotly is a data_virtualisation \n",
    "py.init_notebook_mode(connected=True)\n",
    "import plotly.graph_objs as go\n",
    "import plotly.tools as tls\n",
    "\n",
    "#check_out and ls will help in the to show files and folders\n",
    "\n",
    "from subprocess import check_output\n",
    "print(check_output([\"ls\"]).decode(\"utf8\"))"
   ]
  },
  {
   "cell_type": "code",
   "execution_count": 2,
   "metadata": {
    "scrolled": true
   },
   "outputs": [
    {
     "data": {
      "text/html": [
       "<div>\n",
       "<style scoped>\n",
       "    .dataframe tbody tr th:only-of-type {\n",
       "        vertical-align: middle;\n",
       "    }\n",
       "\n",
       "    .dataframe tbody tr th {\n",
       "        vertical-align: top;\n",
       "    }\n",
       "\n",
       "    .dataframe thead th {\n",
       "        text-align: right;\n",
       "    }\n",
       "</style>\n",
       "<table border=\"1\" class=\"dataframe\">\n",
       "  <thead>\n",
       "    <tr style=\"text-align: right;\">\n",
       "      <th></th>\n",
       "      <th>Property Name</th>\n",
       "      <th>Invoice ID</th>\n",
       "      <th>TXN ID</th>\n",
       "      <th>Collected Amount</th>\n",
       "      <th>Tenant Code</th>\n",
       "      <th>Tenant Name</th>\n",
       "      <th>Mode</th>\n",
       "      <th>Term</th>\n",
       "      <th>Date</th>\n",
       "      <th>Status</th>\n",
       "    </tr>\n",
       "  </thead>\n",
       "  <tbody>\n",
       "    <tr>\n",
       "      <th>0</th>\n",
       "      <td>Placio Elite Homes 2</td>\n",
       "      <td>2018PF0031082</td>\n",
       "      <td>9.700000e+01</td>\n",
       "      <td>64000</td>\n",
       "      <td>18192424</td>\n",
       "      <td>PRAGATI OJHA</td>\n",
       "      <td>cheque</td>\n",
       "      <td>yearly</td>\n",
       "      <td>2018-08-02</td>\n",
       "      <td>pending</td>\n",
       "    </tr>\n",
       "    <tr>\n",
       "      <th>1</th>\n",
       "      <td>Placio Elite Homes 2</td>\n",
       "      <td>2018PF0031081</td>\n",
       "      <td>9.600000e+01</td>\n",
       "      <td>69500</td>\n",
       "      <td>18192424</td>\n",
       "      <td>PRAGATI OJHA</td>\n",
       "      <td>cheque</td>\n",
       "      <td>yearly</td>\n",
       "      <td>2018-08-02</td>\n",
       "      <td>pending</td>\n",
       "    </tr>\n",
       "    <tr>\n",
       "      <th>2</th>\n",
       "      <td>Placio Imperial Homez</td>\n",
       "      <td>2018PF0121080</td>\n",
       "      <td>NaN</td>\n",
       "      <td>10000</td>\n",
       "      <td>18192409</td>\n",
       "      <td>himanshi</td>\n",
       "      <td>cash</td>\n",
       "      <td>monthly</td>\n",
       "      <td>2018-08-02</td>\n",
       "      <td>pending</td>\n",
       "    </tr>\n",
       "    <tr>\n",
       "      <th>3</th>\n",
       "      <td>Placio Angel Paradise</td>\n",
       "      <td>2018PFI011078</td>\n",
       "      <td>NaN</td>\n",
       "      <td>13000</td>\n",
       "      <td>181901181</td>\n",
       "      <td>SHARDDHA TAMRAKR</td>\n",
       "      <td>cash</td>\n",
       "      <td>monthly</td>\n",
       "      <td>2018-08-02</td>\n",
       "      <td>pending</td>\n",
       "    </tr>\n",
       "    <tr>\n",
       "      <th>4</th>\n",
       "      <td>Placio Angel Paradise</td>\n",
       "      <td>2018PFI011075</td>\n",
       "      <td>NaN</td>\n",
       "      <td>6000</td>\n",
       "      <td>181901247</td>\n",
       "      <td>sheetal jain</td>\n",
       "      <td>cash</td>\n",
       "      <td>monthly</td>\n",
       "      <td>2018-08-02</td>\n",
       "      <td>pending</td>\n",
       "    </tr>\n",
       "    <tr>\n",
       "      <th>5</th>\n",
       "      <td>Placio Precious</td>\n",
       "      <td>2018PFL031068</td>\n",
       "      <td>NaN</td>\n",
       "      <td>5500</td>\n",
       "      <td>18192262</td>\n",
       "      <td>Divya Tripathi</td>\n",
       "      <td>cash</td>\n",
       "      <td>monthly</td>\n",
       "      <td>2018-08-02</td>\n",
       "      <td>pending</td>\n",
       "    </tr>\n",
       "    <tr>\n",
       "      <th>6</th>\n",
       "      <td>Placio Precious</td>\n",
       "      <td>2018PFL031067</td>\n",
       "      <td>NaN</td>\n",
       "      <td>22500</td>\n",
       "      <td>18192305</td>\n",
       "      <td>Appurwa Kumari</td>\n",
       "      <td>cash</td>\n",
       "      <td>monthly</td>\n",
       "      <td>2018-08-02</td>\n",
       "      <td>pending</td>\n",
       "    </tr>\n",
       "    <tr>\n",
       "      <th>7</th>\n",
       "      <td>Placio Imperial Homez</td>\n",
       "      <td>2018PF0121065</td>\n",
       "      <td>NaN</td>\n",
       "      <td>40000</td>\n",
       "      <td>181901402</td>\n",
       "      <td>Danish Aslam</td>\n",
       "      <td>cash</td>\n",
       "      <td>monthly</td>\n",
       "      <td>2018-08-02</td>\n",
       "      <td>pending</td>\n",
       "    </tr>\n",
       "    <tr>\n",
       "      <th>8</th>\n",
       "      <td>Placio Lily</td>\n",
       "      <td>2018PF0101062</td>\n",
       "      <td>1.942478e+10</td>\n",
       "      <td>5500</td>\n",
       "      <td>181901105</td>\n",
       "      <td>Anshika Goyal</td>\n",
       "      <td>paytm</td>\n",
       "      <td>monthly</td>\n",
       "      <td>2018-08-02</td>\n",
       "      <td>pending</td>\n",
       "    </tr>\n",
       "    <tr>\n",
       "      <th>9</th>\n",
       "      <td>Placio Lily</td>\n",
       "      <td>2018PF0101061</td>\n",
       "      <td>1.950106e+10</td>\n",
       "      <td>23000</td>\n",
       "      <td>181901105</td>\n",
       "      <td>Anshika Goyal</td>\n",
       "      <td>paytm</td>\n",
       "      <td>monthly</td>\n",
       "      <td>2018-08-02</td>\n",
       "      <td>pending</td>\n",
       "    </tr>\n",
       "    <tr>\n",
       "      <th>10</th>\n",
       "      <td>Placio Ashoka Inn</td>\n",
       "      <td>2018PM0241058</td>\n",
       "      <td>NaN</td>\n",
       "      <td>10000</td>\n",
       "      <td>181901139</td>\n",
       "      <td>Shivam Yadav</td>\n",
       "      <td>cash</td>\n",
       "      <td>monthly</td>\n",
       "      <td>2018-08-02</td>\n",
       "      <td>pending</td>\n",
       "    </tr>\n",
       "    <tr>\n",
       "      <th>11</th>\n",
       "      <td>Placio Lily</td>\n",
       "      <td>2018PF0101053</td>\n",
       "      <td>2.018080e+15</td>\n",
       "      <td>7500</td>\n",
       "      <td>181901105</td>\n",
       "      <td>Anshika Goyal</td>\n",
       "      <td>paytm</td>\n",
       "      <td>monthly</td>\n",
       "      <td>2018-08-02</td>\n",
       "      <td>pending</td>\n",
       "    </tr>\n",
       "    <tr>\n",
       "      <th>12</th>\n",
       "      <td>Placio Lily</td>\n",
       "      <td>2018PF0101052</td>\n",
       "      <td>2.018080e+15</td>\n",
       "      <td>6500</td>\n",
       "      <td>181901105</td>\n",
       "      <td>Anshika Goyal</td>\n",
       "      <td>paytm</td>\n",
       "      <td>monthly</td>\n",
       "      <td>2018-08-02</td>\n",
       "      <td>pending</td>\n",
       "    </tr>\n",
       "  </tbody>\n",
       "</table>\n",
       "</div>"
      ],
      "text/plain": [
       "            Property Name     Invoice ID        TXN ID  Collected Amount  \\\n",
       "0    Placio Elite Homes 2  2018PF0031082  9.700000e+01             64000   \n",
       "1    Placio Elite Homes 2  2018PF0031081  9.600000e+01             69500   \n",
       "2   Placio Imperial Homez  2018PF0121080           NaN             10000   \n",
       "3   Placio Angel Paradise  2018PFI011078           NaN             13000   \n",
       "4   Placio Angel Paradise  2018PFI011075           NaN              6000   \n",
       "5         Placio Precious  2018PFL031068           NaN              5500   \n",
       "6         Placio Precious  2018PFL031067           NaN             22500   \n",
       "7   Placio Imperial Homez  2018PF0121065           NaN             40000   \n",
       "8             Placio Lily  2018PF0101062  1.942478e+10              5500   \n",
       "9             Placio Lily  2018PF0101061  1.950106e+10             23000   \n",
       "10      Placio Ashoka Inn  2018PM0241058           NaN             10000   \n",
       "11            Placio Lily  2018PF0101053  2.018080e+15              7500   \n",
       "12            Placio Lily  2018PF0101052  2.018080e+15              6500   \n",
       "\n",
       "    Tenant Code       Tenant Name    Mode     Term        Date   Status  \n",
       "0      18192424      PRAGATI OJHA  cheque   yearly  2018-08-02  pending  \n",
       "1      18192424      PRAGATI OJHA  cheque   yearly  2018-08-02  pending  \n",
       "2      18192409          himanshi    cash  monthly  2018-08-02  pending  \n",
       "3     181901181  SHARDDHA TAMRAKR    cash  monthly  2018-08-02  pending  \n",
       "4     181901247      sheetal jain    cash  monthly  2018-08-02  pending  \n",
       "5      18192262    Divya Tripathi    cash  monthly  2018-08-02  pending  \n",
       "6      18192305    Appurwa Kumari    cash  monthly  2018-08-02  pending  \n",
       "7     181901402      Danish Aslam    cash  monthly  2018-08-02  pending  \n",
       "8     181901105     Anshika Goyal   paytm  monthly  2018-08-02  pending  \n",
       "9     181901105     Anshika Goyal   paytm  monthly  2018-08-02  pending  \n",
       "10    181901139      Shivam Yadav    cash  monthly  2018-08-02  pending  \n",
       "11    181901105     Anshika Goyal   paytm  monthly  2018-08-02  pending  \n",
       "12    181901105     Anshika Goyal   paytm  monthly  2018-08-02  pending  "
      ]
     },
     "execution_count": 2,
     "metadata": {},
     "output_type": "execute_result"
    }
   ],
   "source": [
    "HMS30_ = pd.read_csv('csv/2_aug.csv')\n",
    "HMS30_"
   ]
  },
  {
   "cell_type": "code",
   "execution_count": 3,
   "metadata": {
    "scrolled": true
   },
   "outputs": [
    {
     "data": {
      "text/html": [
       "<div>\n",
       "<style scoped>\n",
       "    .dataframe tbody tr th:only-of-type {\n",
       "        vertical-align: middle;\n",
       "    }\n",
       "\n",
       "    .dataframe tbody tr th {\n",
       "        vertical-align: top;\n",
       "    }\n",
       "\n",
       "    .dataframe thead th {\n",
       "        text-align: right;\n",
       "    }\n",
       "</style>\n",
       "<table border=\"1\" class=\"dataframe\">\n",
       "  <thead>\n",
       "    <tr style=\"text-align: right;\">\n",
       "      <th></th>\n",
       "      <th>Property Name</th>\n",
       "      <th>Invoice ID</th>\n",
       "      <th>TXN ID</th>\n",
       "      <th>Collected Amount</th>\n",
       "      <th>Tenant Code</th>\n",
       "      <th>Tenant Name</th>\n",
       "      <th>Mode</th>\n",
       "      <th>Term</th>\n",
       "      <th>Date</th>\n",
       "      <th>Status</th>\n",
       "    </tr>\n",
       "  </thead>\n",
       "  <tbody>\n",
       "    <tr>\n",
       "      <th>1</th>\n",
       "      <td>Placio Elite Homes 2</td>\n",
       "      <td>2018PF0031081</td>\n",
       "      <td>9.600000e+01</td>\n",
       "      <td>69500</td>\n",
       "      <td>18192424</td>\n",
       "      <td>PRAGATI OJHA</td>\n",
       "      <td>cheque</td>\n",
       "      <td>yearly</td>\n",
       "      <td>2018-08-02</td>\n",
       "      <td>pending</td>\n",
       "    </tr>\n",
       "    <tr>\n",
       "      <th>0</th>\n",
       "      <td>Placio Elite Homes 2</td>\n",
       "      <td>2018PF0031082</td>\n",
       "      <td>9.700000e+01</td>\n",
       "      <td>64000</td>\n",
       "      <td>18192424</td>\n",
       "      <td>PRAGATI OJHA</td>\n",
       "      <td>cheque</td>\n",
       "      <td>yearly</td>\n",
       "      <td>2018-08-02</td>\n",
       "      <td>pending</td>\n",
       "    </tr>\n",
       "    <tr>\n",
       "      <th>7</th>\n",
       "      <td>Placio Imperial Homez</td>\n",
       "      <td>2018PF0121065</td>\n",
       "      <td>NaN</td>\n",
       "      <td>40000</td>\n",
       "      <td>181901402</td>\n",
       "      <td>Danish Aslam</td>\n",
       "      <td>cash</td>\n",
       "      <td>monthly</td>\n",
       "      <td>2018-08-02</td>\n",
       "      <td>pending</td>\n",
       "    </tr>\n",
       "    <tr>\n",
       "      <th>9</th>\n",
       "      <td>Placio Lily</td>\n",
       "      <td>2018PF0101061</td>\n",
       "      <td>1.950106e+10</td>\n",
       "      <td>23000</td>\n",
       "      <td>181901105</td>\n",
       "      <td>Anshika Goyal</td>\n",
       "      <td>paytm</td>\n",
       "      <td>monthly</td>\n",
       "      <td>2018-08-02</td>\n",
       "      <td>pending</td>\n",
       "    </tr>\n",
       "    <tr>\n",
       "      <th>6</th>\n",
       "      <td>Placio Precious</td>\n",
       "      <td>2018PFL031067</td>\n",
       "      <td>NaN</td>\n",
       "      <td>22500</td>\n",
       "      <td>18192305</td>\n",
       "      <td>Appurwa Kumari</td>\n",
       "      <td>cash</td>\n",
       "      <td>monthly</td>\n",
       "      <td>2018-08-02</td>\n",
       "      <td>pending</td>\n",
       "    </tr>\n",
       "    <tr>\n",
       "      <th>3</th>\n",
       "      <td>Placio Angel Paradise</td>\n",
       "      <td>2018PFI011078</td>\n",
       "      <td>NaN</td>\n",
       "      <td>13000</td>\n",
       "      <td>181901181</td>\n",
       "      <td>SHARDDHA TAMRAKR</td>\n",
       "      <td>cash</td>\n",
       "      <td>monthly</td>\n",
       "      <td>2018-08-02</td>\n",
       "      <td>pending</td>\n",
       "    </tr>\n",
       "    <tr>\n",
       "      <th>2</th>\n",
       "      <td>Placio Imperial Homez</td>\n",
       "      <td>2018PF0121080</td>\n",
       "      <td>NaN</td>\n",
       "      <td>10000</td>\n",
       "      <td>18192409</td>\n",
       "      <td>himanshi</td>\n",
       "      <td>cash</td>\n",
       "      <td>monthly</td>\n",
       "      <td>2018-08-02</td>\n",
       "      <td>pending</td>\n",
       "    </tr>\n",
       "    <tr>\n",
       "      <th>10</th>\n",
       "      <td>Placio Ashoka Inn</td>\n",
       "      <td>2018PM0241058</td>\n",
       "      <td>NaN</td>\n",
       "      <td>10000</td>\n",
       "      <td>181901139</td>\n",
       "      <td>Shivam Yadav</td>\n",
       "      <td>cash</td>\n",
       "      <td>monthly</td>\n",
       "      <td>2018-08-02</td>\n",
       "      <td>pending</td>\n",
       "    </tr>\n",
       "    <tr>\n",
       "      <th>11</th>\n",
       "      <td>Placio Lily</td>\n",
       "      <td>2018PF0101053</td>\n",
       "      <td>2.018080e+15</td>\n",
       "      <td>7500</td>\n",
       "      <td>181901105</td>\n",
       "      <td>Anshika Goyal</td>\n",
       "      <td>paytm</td>\n",
       "      <td>monthly</td>\n",
       "      <td>2018-08-02</td>\n",
       "      <td>pending</td>\n",
       "    </tr>\n",
       "    <tr>\n",
       "      <th>12</th>\n",
       "      <td>Placio Lily</td>\n",
       "      <td>2018PF0101052</td>\n",
       "      <td>2.018080e+15</td>\n",
       "      <td>6500</td>\n",
       "      <td>181901105</td>\n",
       "      <td>Anshika Goyal</td>\n",
       "      <td>paytm</td>\n",
       "      <td>monthly</td>\n",
       "      <td>2018-08-02</td>\n",
       "      <td>pending</td>\n",
       "    </tr>\n",
       "    <tr>\n",
       "      <th>4</th>\n",
       "      <td>Placio Angel Paradise</td>\n",
       "      <td>2018PFI011075</td>\n",
       "      <td>NaN</td>\n",
       "      <td>6000</td>\n",
       "      <td>181901247</td>\n",
       "      <td>sheetal jain</td>\n",
       "      <td>cash</td>\n",
       "      <td>monthly</td>\n",
       "      <td>2018-08-02</td>\n",
       "      <td>pending</td>\n",
       "    </tr>\n",
       "    <tr>\n",
       "      <th>5</th>\n",
       "      <td>Placio Precious</td>\n",
       "      <td>2018PFL031068</td>\n",
       "      <td>NaN</td>\n",
       "      <td>5500</td>\n",
       "      <td>18192262</td>\n",
       "      <td>Divya Tripathi</td>\n",
       "      <td>cash</td>\n",
       "      <td>monthly</td>\n",
       "      <td>2018-08-02</td>\n",
       "      <td>pending</td>\n",
       "    </tr>\n",
       "    <tr>\n",
       "      <th>8</th>\n",
       "      <td>Placio Lily</td>\n",
       "      <td>2018PF0101062</td>\n",
       "      <td>1.942478e+10</td>\n",
       "      <td>5500</td>\n",
       "      <td>181901105</td>\n",
       "      <td>Anshika Goyal</td>\n",
       "      <td>paytm</td>\n",
       "      <td>monthly</td>\n",
       "      <td>2018-08-02</td>\n",
       "      <td>pending</td>\n",
       "    </tr>\n",
       "  </tbody>\n",
       "</table>\n",
       "</div>"
      ],
      "text/plain": [
       "            Property Name     Invoice ID        TXN ID  Collected Amount  \\\n",
       "1    Placio Elite Homes 2  2018PF0031081  9.600000e+01             69500   \n",
       "0    Placio Elite Homes 2  2018PF0031082  9.700000e+01             64000   \n",
       "7   Placio Imperial Homez  2018PF0121065           NaN             40000   \n",
       "9             Placio Lily  2018PF0101061  1.950106e+10             23000   \n",
       "6         Placio Precious  2018PFL031067           NaN             22500   \n",
       "3   Placio Angel Paradise  2018PFI011078           NaN             13000   \n",
       "2   Placio Imperial Homez  2018PF0121080           NaN             10000   \n",
       "10      Placio Ashoka Inn  2018PM0241058           NaN             10000   \n",
       "11            Placio Lily  2018PF0101053  2.018080e+15              7500   \n",
       "12            Placio Lily  2018PF0101052  2.018080e+15              6500   \n",
       "4   Placio Angel Paradise  2018PFI011075           NaN              6000   \n",
       "5         Placio Precious  2018PFL031068           NaN              5500   \n",
       "8             Placio Lily  2018PF0101062  1.942478e+10              5500   \n",
       "\n",
       "    Tenant Code       Tenant Name    Mode     Term        Date   Status  \n",
       "1      18192424      PRAGATI OJHA  cheque   yearly  2018-08-02  pending  \n",
       "0      18192424      PRAGATI OJHA  cheque   yearly  2018-08-02  pending  \n",
       "7     181901402      Danish Aslam    cash  monthly  2018-08-02  pending  \n",
       "9     181901105     Anshika Goyal   paytm  monthly  2018-08-02  pending  \n",
       "6      18192305    Appurwa Kumari    cash  monthly  2018-08-02  pending  \n",
       "3     181901181  SHARDDHA TAMRAKR    cash  monthly  2018-08-02  pending  \n",
       "2      18192409          himanshi    cash  monthly  2018-08-02  pending  \n",
       "10    181901139      Shivam Yadav    cash  monthly  2018-08-02  pending  \n",
       "11    181901105     Anshika Goyal   paytm  monthly  2018-08-02  pending  \n",
       "12    181901105     Anshika Goyal   paytm  monthly  2018-08-02  pending  \n",
       "4     181901247      sheetal jain    cash  monthly  2018-08-02  pending  \n",
       "5      18192262    Divya Tripathi    cash  monthly  2018-08-02  pending  \n",
       "8     181901105     Anshika Goyal   paytm  monthly  2018-08-02  pending  "
      ]
     },
     "execution_count": 3,
     "metadata": {},
     "output_type": "execute_result"
    }
   ],
   "source": [
    "D30_ = HMS30_.sort_values(by='Collected Amount' , ascending= False)\n",
    "D30_"
   ]
  },
  {
   "cell_type": "code",
   "execution_count": 4,
   "metadata": {
    "scrolled": true
   },
   "outputs": [
    {
     "data": {
      "image/png": "[encoded data removed]",
      "text/plain": [
       "<Figure size 720x504 with 1 Axes>"
      ]
     },
     "metadata": {},
     "output_type": "display_data"
    }
   ],
   "source": [
    "mlt.subplots(figsize=(10,7))\n",
    "sns.countplot(x=D30_['Mode'],hue=D30_['Mode'], data=D30_).set_title(\"Tenant count Payment Mode wise\")\n",
    "#mlt.savefig('status_20180701_to_20180723.png')\n",
    "mlt.show()"
   ]
  },
  {
   "cell_type": "code",
   "execution_count": 5,
   "metadata": {
    "scrolled": true
   },
   "outputs": [
    {
     "data": {
      "image/png": "[encoded data removed]",
      "text/plain": [
       "<Figure size 1440x648 with 1 Axes>"
      ]
     },
     "metadata": {},
     "output_type": "display_data"
    }
   ],
   "source": [
    "mlt.subplots(figsize=(20,9))\n",
    "sns.countplot(x=D30_['Property Name'],hue=D30_['Property Name'], data=D30_).set_title(\"Tenant count property wise\")\n",
    "#mlt.savefig('status_20180701_to_20180723.png')\n",
    "mlt.show()"
   ]
  },
  {
   "cell_type": "code",
   "execution_count": 6,
   "metadata": {
    "scrolled": true
   },
   "outputs": [
    {
     "data": {
      "image/png": "[encoded data removed]",
      "text/plain": [
       "<Figure size 720x504 with 1 Axes>"
      ]
     },
     "metadata": {},
     "output_type": "display_data"
    }
   ],
   "source": [
    "mlt.subplots(figsize=(10,7))\n",
    "sns.countplot(x=D30_['Mode'],hue=D30_['Term'], data=D30_).set_title(\"monthly and yearly count payment mode wise\")\n",
    "#mlt.savefig('status_20180701_to_20180723.png')\n",
    "mlt.show()"
   ]
  },
  {
   "cell_type": "code",
   "execution_count": 7,
   "metadata": {
    "scrolled": true
   },
   "outputs": [
    {
     "data": {
      "image/png": "[encoded data removed]",
      "text/plain": [
       "<Figure size 1440x648 with 1 Axes>"
      ]
     },
     "metadata": {},
     "output_type": "display_data"
    }
   ],
   "source": [
    "mlt.subplots(figsize=(20,9))\n",
    "sns.countplot(x=D30_['Property Name'],hue=D30_['Status'], data=D30_).set_title(\"status Property wise\")\n",
    "#mlt.savefig('status_20180701_to_20180723.png')\n",
    "mlt.show()"
   ]
  },
  {
   "cell_type": "code",
   "execution_count": 8,
   "metadata": {
    "scrolled": false
   },
   "outputs": [
    {
     "data": {
      "image/png": "[encoded data removed]",
      "text/plain": [
       "<Figure size 1440x504 with 1 Axes>"
      ]
     },
     "metadata": {},
     "output_type": "display_data"
    }
   ],
   "source": [
    "mlt.subplots(figsize=(20,7))\n",
    "sns.countplot(x=D30_['Tenant Code'],hue=D30_['Mode'], data=D30_).set_title(\"Payment Mode used buy tenant\")\n",
    "#mlt.savefig('status_20180701_to_20180723.png')\n",
    "mlt.show()"
   ]
  },
  {
   "cell_type": "code",
   "execution_count": 9,
   "metadata": {
    "scrolled": true
   },
   "outputs": [
    {
     "data": {
      "image/png": "[encoded data removed]",
      "text/plain": [
       "<Figure size 2880x504 with 1 Axes>"
      ]
     },
     "metadata": {},
     "output_type": "display_data"
    }
   ],
   "source": [
    "mlt.subplots(figsize=(40,7))\n",
    "sns.countplot(x=D30_['Tenant Code'],hue=D30_['Term'], data=D30_).set_title(\"Tenant term used\")\n",
    "#mlt.savefig('status_20180701_to_20180723.png')\n",
    "mlt.show()"
   ]
  },
  {
   "cell_type": "code",
   "execution_count": null,
   "metadata": {},
   "outputs": [],
   "source": []
  }
 ],
 "metadata": {
  "kernelspec": {
   "display_name": "Python 3",
   "language": "python",
   "name": "python3"
  },
  "language_info": {
   "codemirror_mode": {
    "name": "ipython",
    "version": 3
   },
   "file_extension": ".py",
   "mimetype": "text/x-python",
   "name": "python",
   "nbconvert_exporter": "python",
   "pygments_lexer": "ipython3",
   "version": "3.6.5"
  }
 },
 "nbformat": 4,
 "nbformat_minor": 2
}
